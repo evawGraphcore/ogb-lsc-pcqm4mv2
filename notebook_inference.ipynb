{
 "cells": [
  {
   "cell_type": "markdown",
   "metadata": {},
   "source": [
    "Copyright (c) 2022 Graphcore Ltd. All rights reserved."
   ]
  },
  {
   "cell_type": "markdown",
   "metadata": {},
   "source": [
    "Inference using GPS++ on IPUs\n",
    "==========\n",
    "\n",
    "This notebook demonstrates doing inference on a single sample and the entire test-challenge dataset split using the model we used for our OGB-LSC PCQM4Mv2 submission.\n",
    "\n",
    "We will use IPUs for this, which allows us to do inference on the entire test-challenge dataset split in less than a minute.\n",
    "\n",
    "In the process of doing this we will see some of the additional features we generate from the original dataset and feed into the model.\n",
    "\n",
    "Requirements:\n",
    "\n",
    "* A Poplar SDK environment enabled (see the Getting Started guide for your IPU system or take a look at this projects README).\n",
    "* Python packages installed with `pip install -r ../requirements.txt`"
   ]
  },
  {
   "cell_type": "code",
   "execution_count": 2,
   "metadata": {},
   "outputs": [
    {
     "name": "stdout",
     "output_type": "stream",
     "text": [
      "/bin/bash: warning: setlocale: LC_ALL: cannot change locale (en_US.UTF-8)\n",
      "Note: you may need to restart the kernel to use updated packages.\n"
     ]
    }
   ],
   "source": [
    "%pip install -q -r requirements.txt"
   ]
  },
  {
   "cell_type": "markdown",
   "metadata": {},
   "source": [
    "This example requires building a few things:\n",
    "* An optimised method to get the path lengths of a graph\n",
    "* IPU optimised grouped gather scatter operaions"
   ]
  },
  {
   "cell_type": "code",
   "execution_count": 3,
   "metadata": {},
   "outputs": [],
   "source": [
    "%%capture\n",
    "! make -C data_utils/feature_generation\n",
    "! make -C static_ops"
   ]
  },
  {
   "cell_type": "code",
   "execution_count": 2,
   "metadata": {},
   "outputs": [],
   "source": [
    "%matplotlib inline\n",
    "\n",
    "import os\n",
    "import yaml\n",
    "from pathlib import Path\n",
    "\n",
    "import matplotlib.pyplot as plt\n",
    "import numpy as np\n",
    "import random\n",
    "import pandas as pd\n",
    "from rdkit import Chem\n",
    "from rdkit.Chem import AllChem, Draw\n",
    "\n",
    "import tensorflow as tf\n",
    "from argparser import parse_dict\n",
    "from data_utils.load_dataset import CustomGraphData, load_raw_dataset\n",
    "from data_utils.pcq_dataset_28features import smiles2graph_large, CustomPCQM4Mv2Dataset\n",
    "from data_utils.preprocess_dataset import preprocess_dataset\n",
    "from notebook_utils import predict\n",
    "\n",
    "# Set the tensorflow log level \n",
    "tf.get_logger().setLevel(\"ERROR\")"
   ]
  },
  {
   "cell_type": "markdown",
   "metadata": {},
   "source": [
    "If running on Paperspace we will run some additional configuration steps below. If you aren't running on Paperspace, ensure you have the following environment variables set: `DATASET_DIR` - location of the dataset, `CHECKPOINT_DIR` - location of any checkpoints, `POPLAR_EXECUTABLE_CACHE_DIR` - location of any Poplar executable caches or update the paths manually in the below two cells."
   ]
  },
  {
   "cell_type": "code",
   "execution_count": 6,
   "metadata": {},
   "outputs": [],
   "source": [
    "if os.getenv(\"PAPERSPACE_METRIC_WORKLOAD_ID\"):\n",
    "    !mkdir -p /tmp/exe_cache\n",
    "    !rm -rf /tmp/ogb_lsc_pcqm4mv2\n",
    "    !cd /graphcore/ogb_lsc_pcqm4mv2/ && find -type d -exec mkdir -p \"/tmp/ogb_lsc_pcqm4mv2/{}\" \\;\n",
    "    !cd /graphcore/ogb_lsc_pcqm4mv2/ && find -type f -exec cp -sP \"${PWD}/{}\" \"/tmp/ogb_lsc_pcqm4mv2/{}\" \\;\n",
    "    os.environ[\"DATASET_DIR\"] = \"/tmp/ogb_lsc_pcqm4mv2/datasets/\"\n",
    "    os.environ[\"CHECKPOINT_DIR\"] = \"/tmp/ogb_lsc_pcqm4mv2/checkpoints\"\n",
    "    os.environ[\"POPLAR_EXECUTABLE_CACHE_DIR\"] = \"/tmp/ogb_lsc_pcqm4mv2/executables\"\n",
    "\n",
    "checkpoint_directory = os.environ.get(\"CHECKPOINT_DIR\", \".\")\n",
    "dataset_directory = os.environ.get(\"DATASET_DIR\", \".\")"
   ]
  },
  {
   "cell_type": "markdown",
   "metadata": {},
   "source": [
    "Lets also set a few things to enable us to use the executable caches, saving us from compiling the model."
   ]
  },
  {
   "cell_type": "code",
   "execution_count": 7,
   "metadata": {},
   "outputs": [],
   "source": [
    "executable_cache_dir = os.environ.get(\"POPLAR_EXECUTABLE_CACHE_DIR\", \".\")\n",
    "os.environ[\"TF_POPLAR_FLAGS\"] = f\"--executable_cache_path='{executable_cache_dir}'\""
   ]
  },
  {
   "cell_type": "markdown",
   "metadata": {},
   "source": [
    "### Loading a configuration\n",
    "\n",
    "There are 3 configurations available with the model sizes of 11M (GPS_4layer), 22M (GPS_8layer) and 44M (GPS_16layer).\n",
    "By choosing the model name, the corresponding config path and checkpoint path will be used.\n"
   ]
  },
  {
   "cell_type": "code",
   "execution_count": 62,
   "metadata": {},
   "outputs": [],
   "source": [
    "# Choose model\n",
    "model_name = \"GPS_4layer\" # choose from [\"GPS_4layer\", \"GPS_8layer\", \"GPS_16layer\"]\n",
    "\n",
    "# Set configs\n",
    "model_dict = {\"GPS_4layer\": \"GPS_PCQ_4gps_11M.yaml\", \n",
    "              \"GPS_8layer\": \"GPS_PCQ_8gps_22M.yaml\",\n",
    "              \"GPS_16layer\": \"GPS_PCQ_16gps_44M.yaml\"}\n",
    "cfg_path = Path(\"configs\").joinpath(model_dict[model_name])\n",
    "cfg_yaml = yaml.safe_load(cfg_path.read_text())\n",
    "cfg = parse_dict(cfg_yaml)\n",
    "\n",
    "# Set the checkpoint path for the corresponding config\n",
    "sub_directory = model_dict[model_name].split(\".\")[0]\n",
    "checkpoint_path = Path(checkpoint_directory).joinpath(f\"{sub_directory}/model-FINAL\")\n",
    "\n",
    "# Turn off dataset caching for this notebook\n",
    "cfg.dataset.save_to_cache = False\n",
    "cfg.dataset.load_from_cache = False"
   ]
  },
  {
   "cell_type": "markdown",
   "metadata": {},
   "source": [
    "### Predicting the HOMO-LUMO gap of a single molecule\n",
    "\n",
    "The competition requires predicting the HOMO-LUMO energy gap of a number of molecules. To demonstrate inference of our model on the IPU we will start by predicting the HOMO-LUMO gap of a single molecule.\n",
    "\n",
    "Lets create a smile string:"
   ]
  },
  {
   "cell_type": "code",
   "execution_count": 63,
   "metadata": {},
   "outputs": [],
   "source": [
    "smile_string = \"CC(NCC[C@H]([C@@H]1CCC(=CC1)C)C)C\""
   ]
  },
  {
   "cell_type": "markdown",
   "metadata": {},
   "source": [
    "To get an idea of how this molecule looks lets visualise this smile string using [rdkit](https://www.rdkit.org/docs/GettingStartedInPython.html)."
   ]
  },
  {
   "cell_type": "code",
   "execution_count": 64,
   "metadata": {},
   "outputs": [
    {
     "data": {
      "image/png": "[encoded data removed]",
      "text/plain": [
       "<PIL.PngImagePlugin.PngImageFile image mode=RGB size=300x300 at 0x7FCA641D16D8>"
      ]
     },
     "execution_count": 64,
     "metadata": {},
     "output_type": "execute_result"
    }
   ],
   "source": [
    "mol = Chem.MolFromSmiles(smile_string)\n",
    "AllChem.Compute2DCoords(mol)\n",
    "Draw.MolToImage(mol)"
   ]
  },
  {
   "cell_type": "markdown",
   "metadata": {},
   "source": [
    "We now convert the smile string into some features our model can understand. The competition provides a method to do this (`smiles2graph`). We have written a custom version of this that uses [rdkit](https://www.rdkit.org/docs/GettingStartedInPython.html) to generate more features from the smile string."
   ]
  },
  {
   "cell_type": "code",
   "execution_count": 65,
   "metadata": {},
   "outputs": [],
   "source": [
    "graph_obj = smiles2graph_large(smile_string)"
   ]
  },
  {
   "cell_type": "markdown",
   "metadata": {},
   "source": [
    "We can take a look at the features that have been created that represent this molecule."
   ]
  },
  {
   "cell_type": "code",
   "execution_count": 66,
   "metadata": {},
   "outputs": [
    {
     "data": {
      "text/plain": [
       "dict_keys(['edge_index', 'edge_feat', 'node_feat', 'num_nodes'])"
      ]
     },
     "execution_count": 66,
     "metadata": {},
     "output_type": "execute_result"
    }
   ],
   "source": [
    "graph_obj.keys()"
   ]
  },
  {
   "cell_type": "markdown",
   "metadata": {},
   "source": [
    "We can see the features that have been created:\n",
    "* `edge_index` - The sending and receiving node indices, representing the edges in the graph.\n",
    "* `edge_feat` - The features of each of the edges in the graph.\n",
    "* `node_feat` - The features of each of the nodes in the graph.\n",
    "* `num_nodes` - Number of nodes in the graph."
   ]
  },
  {
   "cell_type": "markdown",
   "metadata": {},
   "source": [
    "One thing to note is the size of the node features. They have a size of 28 compared to 9 that the OGB-LSC provided `smiles2graph` function creates."
   ]
  },
  {
   "cell_type": "code",
   "execution_count": 67,
   "metadata": {},
   "outputs": [
    {
     "data": {
      "text/plain": [
       "28"
      ]
     },
     "execution_count": 67,
     "metadata": {},
     "output_type": "execute_result"
    }
   ],
   "source": [
    "len(graph_obj[\"node_feat\"][0])"
   ]
  },
  {
   "cell_type": "markdown",
   "metadata": {},
   "source": [
    "Now we will wrap this single graph in our dataset wrapper, which contains some metadata and the dataset object itself."
   ]
  },
  {
   "cell_type": "code",
   "execution_count": 68,
   "metadata": {},
   "outputs": [
    {
     "name": "stderr",
     "output_type": "stream",
     "text": [
      "Getting stats for train split: 100%|██████████| 1/1 [00:00<00:00, 15768.06it/s]\n",
      "Getting stats for valid split: 100%|██████████| 1/1 [00:00<00:00, 15307.68it/s]\n",
      "Getting stats for test-dev split: 100%|██████████| 1/1 [00:00<00:00, 16384.00it/s]\n",
      "Getting stats for test-challenge split: 100%|██████████| 1/1 [00:00<00:00, 16384.00it/s]\n"
     ]
    }
   ],
   "source": [
    "graphs = [graph_obj]\n",
    "graph_raw = CustomGraphData(graphs,\n",
    "                            use_extended_features=True,\n",
    "                            use_conformers=True,\n",
    "                            trim_chemical_features=cfg.dataset.trim_chemical_features,\n",
    "                            use_periods_and_groups=cfg.dataset.use_periods_and_groups,\n",
    "                            do_not_use_atomic_number=cfg.dataset.do_not_use_atomic_number,\n",
    "                            chemical_node_features=cfg.dataset.chemical_node_features,\n",
    "                            chemical_edge_features=cfg.dataset.chemical_edge_features)"
   ]
  },
  {
   "cell_type": "markdown",
   "metadata": {},
   "source": [
    "Now lets feed this through our dataset preprocessing pipeline."
   ]
  },
  {
   "cell_type": "code",
   "execution_count": 69,
   "metadata": {},
   "outputs": [
    {
     "name": "stderr",
     "output_type": "stream",
     "text": [
      "Checking size of graphs against given options...: 100%|██████████| 1/1 [00:00<00:00, 20360.70it/s]\n",
      "Generating senders_receivers features...: 100%|██████████| 1/1 [00:00<00:00, 14074.85it/s]\n",
      "Generating bond_lengths features...: 100%|██████████| 1/1 [00:00<00:00, 7108.99it/s]\n",
      "Generating laplacian_eig features...: 100%|██████████| 1/1 [00:00<00:00,  5.47it/s]\n",
      "Generating random_walk features...: 100%|██████████| 1/1 [00:00<00:00, 803.04it/s]\n",
      "Generating chemical_features features...: 100%|██████████| 1/1 [00:00<00:00, 1673.70it/s]\n",
      "Generating graph_idxs features...: 100%|██████████| 1/1 [00:00<00:00, 4660.34it/s]\n",
      "Generating shortest_path_distances features...: 100%|██████████| 1/1 [00:00<00:00, 1231.81it/s]\n",
      "Generating centrality_encoding features...: 100%|██████████| 1/1 [00:00<00:00, 4500.33it/s]\n",
      "Generating atom_distance features...: 100%|██████████| 1/1 [00:00<00:00, 1091.13it/s]\n"
     ]
    }
   ],
   "source": [
    "graph_preprocessed = preprocess_dataset(dataset=graph_raw, options=cfg)"
   ]
  },
  {
   "cell_type": "markdown",
   "metadata": {},
   "source": [
    "Lets take a look at the additional features created."
   ]
  },
  {
   "cell_type": "code",
   "execution_count": 70,
   "metadata": {},
   "outputs": [
    {
     "data": {
      "text/plain": [
       "dict_keys(['edge_index', 'edge_feat', 'node_feat', 'num_nodes', 'ogb_conformer', 'senders', 'receivers', 'ogb_bond_lengths', 'nan_in_conformer', 'lap_eig_vals', 'lap_eig_vecs', 'random_walk_landing_probs', 'node_graph_idx', 'edge_graph_idx', 'shortest_path_distances', 'centrality_encoding', 'atom_distances', 'direction_vector'])"
      ]
     },
     "execution_count": 70,
     "metadata": {},
     "output_type": "execute_result"
    }
   ],
   "source": [
    "preprocessed_single_graph = graph_preprocessed.dataset[0][0]\n",
    "preprocessed_single_graph.keys()"
   ]
  },
  {
   "cell_type": "markdown",
   "metadata": {},
   "source": [
    "You can see we now have many more features. Ones of note are:\n",
    "\n",
    "* `lap_eig_vals` - The laplacian eigenvalues used as positional encodings in the model.\n",
    "* `lap_eig_vecs` - The laplacian eigenvectors used as positional encodings in the model.\n",
    "* `random_walk_landing_probs` - The random walk feature used as structural encodings in the model.\n",
    "* `shortest_path_distances` - The shortest path distances (2D graph structure information) used as attention bias.\n",
    "* `centrality_encoding` - Degrees of the atoms.\n",
    "* `ogb_conformer`, `ogb_bond_lengths` and `atom_distances` require the 3D position information which is only provided for training data. You will see these values are NaNs or zeros for our inference case."
   ]
  },
  {
   "cell_type": "markdown",
   "metadata": {},
   "source": [
    "Checking the size of the node features you will see that is smaller than before. From the 28 features we had before we have selected 11, based on how beneficial the features were for training. For example, we found the features related to the atomic number group, period and family to be very beneficial."
   ]
  },
  {
   "cell_type": "code",
   "execution_count": 71,
   "metadata": {},
   "outputs": [
    {
     "data": {
      "text/plain": [
       "11"
      ]
     },
     "execution_count": 71,
     "metadata": {},
     "output_type": "execute_result"
    }
   ],
   "source": [
    "len(preprocessed_single_graph[\"node_feat\"][0])"
   ]
  },
  {
   "cell_type": "markdown",
   "metadata": {},
   "source": [
    "Now we are ready to run on the IPU. We have wrapped this functionality in a single function for simplicity. We encourage you to check the contents of this function.\n",
    "\n",
    "The first time running the model in inference on IPUs will require the model to be compiled. This can take a few minutes. We have cached the executable so any subsequent runs we want to do will not require this compile phase."
   ]
  },
  {
   "cell_type": "markdown",
   "metadata": {},
   "source": [
    "Now lets predict the HOMO-LUMO gap of the molecule."
   ]
  },
  {
   "cell_type": "code",
   "execution_count": 72,
   "metadata": {},
   "outputs": [
    {
     "name": "stdout",
     "output_type": "stream",
     "text": [
      "Creating input specification...\n",
      "Configuring the IPUs...\n",
      "Creating TensorFlow dataset from preprocessed dataset...\n"
     ]
    },
    {
     "name": "stderr",
     "output_type": "stream",
     "text": [
      "100%|██████████| 1/1 [00:00<00:00, 13706.88it/s]\n"
     ]
    },
    {
     "name": "stdout",
     "output_type": "stream",
     "text": [
      "Constructing the model...\n"
     ]
    },
    {
     "name": "stderr",
     "output_type": "stream",
     "text": [
      "\n"
     ]
    },
    {
     "name": "stdout",
     "output_type": "stream",
     "text": [
      "Loading the checkpoint from /localdata/adams/checkpoints_tarballs/GPS_PCQ_4gps_11M/model-FINAL...\n",
      "Running `model.predict` to generate predictions...\n"
     ]
    },
    {
     "name": "stderr",
     "output_type": "stream",
     "text": [
      "/a/scratch/kerstink/research/envs/ogb-lsc_POD/lib/python3.6/site-packages/keras/engine/functional.py:589: UserWarning: Input dict contained keys ['node_mask', 'edge_mask'] which did not match any model input. They will be ignored by the model.\n",
      "  [n for n in tensors.keys() if n not in ref_input_names])\n"
     ]
    }
   ],
   "source": [
    "prediction, _ = predict(graph_preprocessed, checkpoint_path, \"test-challenge\", cfg)"
   ]
  },
  {
   "cell_type": "code",
   "execution_count": 73,
   "metadata": {},
   "outputs": [
    {
     "data": {
      "text/plain": [
       "6.76"
      ]
     },
     "execution_count": 73,
     "metadata": {},
     "output_type": "execute_result"
    }
   ],
   "source": [
    "prediction[0]"
   ]
  },
  {
   "cell_type": "markdown",
   "metadata": {},
   "source": [
    "### Predictions on the validation dataset split"
   ]
  },
  {
   "cell_type": "markdown",
   "metadata": {},
   "source": [
    "Doing a single prediction at a time is very inefficient. In this next section we will generate predictions for the entire `valid` dataset split, which on IPU is very fast."
   ]
  },
  {
   "cell_type": "code",
   "execution_count": 34,
   "metadata": {},
   "outputs": [],
   "source": [
    "cases = (\"valid\", )\n",
    "split_mode = \"original\""
   ]
  },
  {
   "cell_type": "markdown",
   "metadata": {},
   "source": [
    "Now lets load and preprocess the dataset. These steps are the same as those we took when preprocessing the single molecule, but does the preprocessing only on the molecules in the `valid` dataset split. This will be done from scratch so can take a few minutes."
   ]
  },
  {
   "cell_type": "code",
   "execution_count": 39,
   "metadata": {},
   "outputs": [
    {
     "name": "stderr",
     "output_type": "stream",
     "text": [
      "100%|██████████| 73545/73545 [00:07<00:00, 10284.71it/s]\n",
      "Getting stats for valid split: 100%|██████████| 73545/73545 [00:00<00:00, 310072.23it/s]\n",
      "Checking size of graphs against given options...: 100%|██████████| 3746620/3746620 [00:02<00:00, 1304826.77it/s]\n",
      "Generating senders_receivers features...: 100%|██████████| 3746620/3746620 [00:10<00:00, 369083.19it/s]\n",
      "Generating bond_lengths features...: 100%|██████████| 3746620/3746620 [00:09<00:00, 382297.82it/s]\n",
      "Generating laplacian_eig features...: 100%|██████████| 3746620/3746620 [00:37<00:00, 100628.04it/s]\n",
      "Generating random_walk features...: 100%|██████████| 3746620/3746620 [00:45<00:00, 83173.58it/s] \n",
      "Generating chemical_features features...: 100%|██████████| 3746620/3746620 [00:24<00:00, 150126.41it/s]\n",
      "Generating graph_idxs features...: 100%|██████████| 3746620/3746620 [00:08<00:00, 435974.28it/s]\n",
      "Generating shortest_path_distances features...: 100%|██████████| 3746620/3746620 [00:29<00:00, 126846.45it/s]\n",
      "Generating centrality_encoding features...: 100%|██████████| 3746620/3746620 [00:08<00:00, 437718.60it/s]\n",
      "Generating atom_distance features...: 100%|██████████| 3746620/3746620 [00:20<00:00, 179938.63it/s]\n"
     ]
    }
   ],
   "source": [
    "graph_data = load_raw_dataset(cfg.dataset.dataset_name,\n",
    "                              dataset_directory,\n",
    "                              cfg,\n",
    "                              split=cases,\n",
    "                              load_ensemble_cache=True,\n",
    "                              split_mode=split_mode,\n",
    "                              ensemble=True)\n",
    "graph_data = preprocess_dataset(dataset=graph_data,\n",
    "                                options=cfg,\n",
    "                                load_ensemble_cache=False,\n",
    "                                folds=cases,\n",
    "                                split_mode=split_mode,\n",
    "                                ensemble=True)"
   ]
  },
  {
   "cell_type": "markdown",
   "metadata": {},
   "source": [
    "Now lets get predictions on the entire `valid` dataset split."
   ]
  },
  {
   "cell_type": "code",
   "execution_count": 36,
   "metadata": {},
   "outputs": [
    {
     "name": "stdout",
     "output_type": "stream",
     "text": [
      "Creating input specification...\n",
      "Configuring the IPUs...\n",
      "Creating TensorFlow dataset from preprocessed dataset...\n"
     ]
    },
    {
     "name": "stderr",
     "output_type": "stream",
     "text": [
      "100%|██████████| 73545/73545 [00:04<00:00, 16706.73it/s]\n"
     ]
    },
    {
     "name": "stdout",
     "output_type": "stream",
     "text": [
      "Constructing the model...\n",
      "Loading the checkpoint from /localdata/adams/ogb_lsc_pcqm4mv2/checkpoints/GPS_PCQ_4gps_11M/model-FINAL...\n",
      "Running `model.predict` to generate predictions...\n"
     ]
    }
   ],
   "source": [
    "predictions, ground_truth = predict(graph_data, checkpoint_path, cases[0], cfg)"
   ]
  },
  {
   "cell_type": "markdown",
   "metadata": {},
   "source": [
    "Lets take a look at the mean, variance and histogram of the predictions and histogram of the ground truth labels."
   ]
  },
  {
   "cell_type": "code",
   "execution_count": 37,
   "metadata": {},
   "outputs": [
    {
     "data": {
      "image/png": "[encoded data removed]",
      "text/plain": [
       "<Figure size 432x288 with 1 Axes>"
      ]
     },
     "metadata": {
      "needs_background": "light"
     },
     "output_type": "display_data"
    }
   ],
   "source": [
    "mean = predictions.astype(float).mean()\n",
    "std = predictions.astype(float).var()\n",
    "\n",
    "plt.hist(predictions, 30, alpha = 0.7, label = 'Predictions')\n",
    "plt.hist(ground_truth, 30, alpha = 0.5, label = 'Ground truth')\n",
    "plt.xlabel(\"HOMO-LUMO Gap (eV)\")\n",
    "plt.ylabel(\"Counts\")\n",
    "plt.title(\"Histogram of HOMO-LUMO gap predictions\")\n",
    "plt.legend()\n",
    "plt.text(5, 15000, f'mean: {mean:.2f}, std: {std:.2f} \\n')\n",
    "plt.show()"
   ]
  },
  {
   "cell_type": "markdown",
   "metadata": {},
   "source": [
    "We could compare the predicted values with the true labels and calculate the MAE (Mean Absolute Error) as below. The model we test here is a small one (11M parameters). To achieve a better MAE we could select one of the larger models (22M or 44M) and re-run the predictions. For the challenge submission we ran the largest model (44M) with 16 GPS layers."
   ]
  },
  {
   "cell_type": "code",
   "execution_count": 38,
   "metadata": {},
   "outputs": [
    {
     "data": {
      "text/plain": [
       "0.08999300505693687"
      ]
     },
     "execution_count": 38,
     "metadata": {},
     "output_type": "execute_result"
    }
   ],
   "source": [
    "mean_MAE = np.mean(np.abs(np.array(predictions) - np.array(ground_truth)))\n",
    "mean_MAE"
   ]
  },
  {
   "cell_type": "markdown",
   "metadata": {},
   "source": [
    "Lets have a look at some molecules with their corresponding label and prediction. First, we have to load the raw data..."
   ]
  },
  {
   "cell_type": "code",
   "execution_count": 22,
   "metadata": {},
   "outputs": [],
   "source": [
    "# Load raw SMILES strings with corresponding label and select only validation molecules\n",
    "smiles_only = CustomPCQM4Mv2Dataset(root = './', only_smiles=True)\n",
    "valid_idx=smiles_only.get_idx_split()['valid']\n",
    "valid_smiles=[]\n",
    "for i in valid_idx:\n",
    "    valid_smiles.append(smiles_only[i])"
   ]
  },
  {
   "cell_type": "markdown",
   "metadata": {},
   "source": [
    "Now we can plot random molecules in the `valid` dataset"
   ]
  },
  {
   "cell_type": "code",
   "execution_count": 23,
   "metadata": {},
   "outputs": [
    {
     "data": {
      "image/png": "[encoded data removed]",
      "text/plain": [
       "<IPython.core.display.Image object>"
      ]
     },
     "execution_count": 23,
     "metadata": {},
     "output_type": "execute_result"
    }
   ],
   "source": [
    "# Choose 6 random indices from validation dataset\n",
    "r_idx = random.sample(range(len(valid_smiles)), 6)\n",
    "# Extract SMILES, RDKit molecular objects, ground_truth labels, and predictions for these molecules\n",
    "Smiles = [valid_smiles[r][0] for r in r_idx]\n",
    "GT = [valid_smiles[r][1] for r in r_idx]\n",
    "Mols = [Chem.MolFromSmiles(r) for r in Smiles]\n",
    "Pred = [predictions[r] for r in r_idx]\n",
    "\n",
    "# Create labels\n",
    "labelList = [\"True: \" + str('%.3f' %gt) +  \"\\v Pred: \" + str(prediction) for gt, prediction in zip(GT,Pred)]\n",
    "# Display molecules with labels\n",
    "Draw.MolsToGridImage(Mols,molsPerRow=3,legends=[label for label in labelList],\n",
    "                    subImgSize=(250,250), useSVG=False)\n"
   ]
  },
  {
   "cell_type": "markdown",
   "metadata": {},
   "source": [
    "Lets now look at the mean absolute error compared to a global molecular property such as number of nodes.\n",
    "\n",
    "First, we have to extract the number of nodes from our graph data..."
   ]
  },
  {
   "cell_type": "code",
   "execution_count": 24,
   "metadata": {},
   "outputs": [],
   "source": [
    "num_nodes_list = []\n",
    "for i in valid_idx:\n",
    "    num_nodes_list.append(graph_data.dataset[i][0]['num_nodes'])\n",
    "    "
   ]
  },
  {
   "cell_type": "markdown",
   "metadata": {},
   "source": [
    "For simplicity we create a dataframe with columns ground truth, prediction, and number of nodes"
   ]
  },
  {
   "cell_type": "code",
   "execution_count": 25,
   "metadata": {},
   "outputs": [
    {
     "data": {
      "text/html": [
       "<div>\n",
       "<style scoped>\n",
       "    .dataframe tbody tr th:only-of-type {\n",
       "        vertical-align: middle;\n",
       "    }\n",
       "\n",
       "    .dataframe tbody tr th {\n",
       "        vertical-align: top;\n",
       "    }\n",
       "\n",
       "    .dataframe thead th {\n",
       "        text-align: right;\n",
       "    }\n",
       "</style>\n",
       "<table border=\"1\" class=\"dataframe\">\n",
       "  <thead>\n",
       "    <tr style=\"text-align: right;\">\n",
       "      <th></th>\n",
       "      <th>ground_truth</th>\n",
       "      <th>prediction</th>\n",
       "      <th>num_nodes</th>\n",
       "    </tr>\n",
       "  </thead>\n",
       "  <tbody>\n",
       "    <tr>\n",
       "      <th>0</th>\n",
       "      <td>4.587840</td>\n",
       "      <td>5.558594</td>\n",
       "      <td>17</td>\n",
       "    </tr>\n",
       "    <tr>\n",
       "      <th>1</th>\n",
       "      <td>4.971520</td>\n",
       "      <td>5.558594</td>\n",
       "      <td>17</td>\n",
       "    </tr>\n",
       "    <tr>\n",
       "      <th>2</th>\n",
       "      <td>5.496700</td>\n",
       "      <td>5.519531</td>\n",
       "      <td>15</td>\n",
       "    </tr>\n",
       "    <tr>\n",
       "      <th>3</th>\n",
       "      <td>5.485815</td>\n",
       "      <td>5.519531</td>\n",
       "      <td>15</td>\n",
       "    </tr>\n",
       "    <tr>\n",
       "      <th>4</th>\n",
       "      <td>4.748387</td>\n",
       "      <td>4.761719</td>\n",
       "      <td>14</td>\n",
       "    </tr>\n",
       "  </tbody>\n",
       "</table>\n",
       "</div>"
      ],
      "text/plain": [
       "   ground_truth  prediction  num_nodes\n",
       "0      4.587840    5.558594         17\n",
       "1      4.971520    5.558594         17\n",
       "2      5.496700    5.519531         15\n",
       "3      5.485815    5.519531         15\n",
       "4      4.748387    4.761719         14"
      ]
     },
     "execution_count": 25,
     "metadata": {},
     "output_type": "execute_result"
    }
   ],
   "source": [
    "df = pd.DataFrame(list(zip(ground_truth, predictions,num_nodes_list)), columns=['ground_truth','prediction','num_nodes'])\n",
    "df.head()"
   ]
  },
  {
   "cell_type": "markdown",
   "metadata": {},
   "source": [
    "Now, lets plot the mean HOMO-LUMO gap and mean prediction per molecule size... "
   ]
  },
  {
   "cell_type": "code",
   "execution_count": 26,
   "metadata": {},
   "outputs": [
    {
     "data": {
      "image/png": "[encoded data removed]",
      "text/plain": [
       "<Figure size 432x288 with 1 Axes>"
      ]
     },
     "metadata": {
      "needs_background": "light"
     },
     "output_type": "display_data"
    }
   ],
   "source": [
    "# plotting a line graph\n",
    "plt.plot(df.groupby(\"num_nodes\")['ground_truth'].mean(),color='red', label = 'Mean ground truth')\n",
    "plt.plot(df.groupby(\"num_nodes\")['prediction'].mean(),color='green', label = 'Mean prediction')\n",
    "plt.legend()\n",
    "plt.ylabel(\"HOMO-LUMO Gap (eV)\")\n",
    "plt.xlabel(\"Number of Atoms\")\n",
    "plt.show()"
   ]
  },
  {
   "cell_type": "markdown",
   "metadata": {},
   "source": [
    "Now, lets add the mean absolute error to our dataframe and compare it to the molecule size..."
   ]
  },
  {
   "cell_type": "code",
   "execution_count": 27,
   "metadata": {},
   "outputs": [
    {
     "data": {
      "image/png": "[encoded data removed]",
      "text/plain": [
       "<Figure size 432x288 with 1 Axes>"
      ]
     },
     "metadata": {
      "needs_background": "light"
     },
     "output_type": "display_data"
    }
   ],
   "source": [
    "# Add MAE to dataframe\n",
    "df['mae']= np.abs(df[\"ground_truth\"]-df[\"prediction\"])\n",
    "# plot\n",
    "plt.plot(df.groupby(\"num_nodes\")['mae'].mean(),color='orange', label = 'Mean MAE')\n",
    "plt.legend()\n",
    "plt.ylabel(\"Mean Absolute Error (eV)\")\n",
    "plt.xlabel(\"Number of Atoms\")\n",
    "plt.show()\n"
   ]
  },
  {
   "cell_type": "markdown",
   "metadata": {},
   "source": [
    "It seems that our model struggles to predict the HOMO-LUMO gap for larger molecules. However, there are only very few molecules (31 in total) that consist of 40 or more atoms. Therefore, lets see how much molecules of a particular size contribute to the overall error"
   ]
  },
  {
   "cell_type": "code",
   "execution_count": 28,
   "metadata": {},
   "outputs": [
    {
     "data": {
      "image/png": "[encoded data removed]",
      "text/plain": [
       "<Figure size 432x288 with 1 Axes>"
      ]
     },
     "metadata": {
      "needs_background": "light"
     },
     "output_type": "display_data"
    }
   ],
   "source": [
    "# Add MAE to dataframe\n",
    "df['mae']= np.abs(df[\"ground_truth\"]-df[\"prediction\"])\n",
    "# plot\n",
    "plt.plot(df.groupby(\"num_nodes\")['mae'].size()/73545*100,color='green')\n",
    "plt.ylabel(\"Contribution in % to final MAE\")\n",
    "plt.xlabel(\"Number of Atoms\")\n",
    "plt.show()\n"
   ]
  },
  {
   "cell_type": "markdown",
   "metadata": {},
   "source": [
    "### Follow up tasks\n",
    "\n",
    "* Try changing the smile string and seeing what HOMO-LUMO gap is predicted.\n",
    "* Try a larger model (`GPS_PCQ_8gps_22M.yaml` or `GPS_PCQ_16gps_44M.yaml`) and the corresponding checkpoint.\n",
    "* Take a look at the `predict` function to get an understanding of what is required to run on IPUs.\n",
    "* Use the 'test-challenge' split of the dataset to predict HOMO-LUMO gaps for the molecules in the challenge."
   ]
  }
 ],
 "metadata": {
  "kernelspec": {
   "display_name": "Python 3",
   "language": "python",
   "name": "python3"
  },
  "language_info": {
   "codemirror_mode": {
    "name": "ipython",
    "version": 3
   },
   "file_extension": ".py",
   "mimetype": "text/x-python",
   "name": "python",
   "nbconvert_exporter": "python",
   "pygments_lexer": "ipython3",
   "version": "3.6.9"
  },
  "vscode": {
   "interpreter": {
    "hash": "6b15b690addf7af5e0dd7c2730ab54c2d0b4f00ecd724d0f02ac98f757b9408d"
   }
  }
 },
 "nbformat": 4,
 "nbformat_minor": 2
}
